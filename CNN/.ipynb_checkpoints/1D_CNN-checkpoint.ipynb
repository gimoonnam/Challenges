{
 "cells": [
  {
   "cell_type": "markdown",
   "id": "53545bca",
   "metadata": {
    "toc": true
   },
   "source": [
    "<h1>Table of Contents<span class=\"tocSkip\"></span></h1>\n",
    "<div class=\"toc\"><ul class=\"toc-item\"><li><span><a href=\"#1D-Convolution\" data-toc-modified-id=\"1D-Convolution-1\"><span class=\"toc-item-num\">1&nbsp;&nbsp;</span>1D Convolution</a></span><ul class=\"toc-item\"><li><span><a href=\"#Using-Numpy\" data-toc-modified-id=\"Using-Numpy-1.1\"><span class=\"toc-item-num\">1.1&nbsp;&nbsp;</span>Using Numpy</a></span></li><li><span><a href=\"#Using-Keras\" data-toc-modified-id=\"Using-Keras-1.2\"><span class=\"toc-item-num\">1.2&nbsp;&nbsp;</span>Using Keras</a></span></li></ul></li><li><span><a href=\"#1D-Convolution-with-Features\" data-toc-modified-id=\"1D-Convolution-with-Features-2\"><span class=\"toc-item-num\">2&nbsp;&nbsp;</span>1D Convolution with Features</a></span><ul class=\"toc-item\"><li><span><a href=\"#using-Numpy\" data-toc-modified-id=\"using-Numpy-2.1\"><span class=\"toc-item-num\">2.1&nbsp;&nbsp;</span>using Numpy</a></span></li><li><span><a href=\"#using-Keras\" data-toc-modified-id=\"using-Keras-2.2\"><span class=\"toc-item-num\">2.2&nbsp;&nbsp;</span>using Keras</a></span></li></ul></li><li><span><a href=\"#1D-Convolution-with-multiple-filters\" data-toc-modified-id=\"1D-Convolution-with-multiple-filters-3\"><span class=\"toc-item-num\">3&nbsp;&nbsp;</span>1D Convolution with multiple filters</a></span><ul class=\"toc-item\"><li><span><a href=\"#using-Numpy\" data-toc-modified-id=\"using-Numpy-3.1\"><span class=\"toc-item-num\">3.1&nbsp;&nbsp;</span>using Numpy</a></span></li><li><span><a href=\"#using-Keras\" data-toc-modified-id=\"using-Keras-3.2\"><span class=\"toc-item-num\">3.2&nbsp;&nbsp;</span>using Keras</a></span></li></ul></li><li><span><a href=\"#References\" data-toc-modified-id=\"References-4\"><span class=\"toc-item-num\">4&nbsp;&nbsp;</span>References</a></span></li></ul></div>"
   ]
  },
  {
   "cell_type": "markdown",
   "id": "362c6135",
   "metadata": {},
   "source": [
    "import libraries ......"
   ]
  },
  {
   "cell_type": "code",
   "execution_count": 57,
   "id": "a578f4d3",
   "metadata": {},
   "outputs": [],
   "source": [
    "import numpy as np \n",
    "import pandas as pd\n",
    "import tensorflow as tf \n",
    "import matplotlib.pyplot as plt\n",
    "import matplotlib as mpl\n",
    "\n",
    "label_size = 14\n",
    "mpl.rcParams['xtick.labelsize'] = label_size \n",
    "mpl.rcParams['ytick.labelsize'] = label_size "
   ]
  },
  {
   "cell_type": "markdown",
   "id": "ba8b4cfb",
   "metadata": {},
   "source": [
    "## 1D Convolution "
   ]
  },
  {
   "cell_type": "code",
   "execution_count": 32,
   "id": "cf9e97ec",
   "metadata": {},
   "outputs": [],
   "source": [
    "data = np.array([0,3,4,5])\n",
    "conv1d_filter = np.array([1,2])\n",
    "kernel_size = len(conv1d_filter)\n",
    "L = data.shape[0]"
   ]
  },
  {
   "cell_type": "code",
   "execution_count": 33,
   "id": "e50b2733",
   "metadata": {},
   "outputs": [
    {
     "data": {
      "text/plain": [
       "(1, 2)"
      ]
     },
     "execution_count": 33,
     "metadata": {},
     "output_type": "execute_result"
    }
   ],
   "source": [
    "conv1d_filter[0], conv1d_filter[1]"
   ]
  },
  {
   "cell_type": "markdown",
   "id": "8d76bb40",
   "metadata": {},
   "source": [
    "### Using Numpy"
   ]
  },
  {
   "cell_type": "code",
   "execution_count": 34,
   "id": "1b663ae1",
   "metadata": {},
   "outputs": [],
   "source": [
    "def Conv1D_Numpy(Seq, Kernel):\n",
    "    kernel_size = len(Kernel)\n",
    "    Length = len(Seq)\n",
    "    \n",
    "    output = []\n",
    "    for i in range(Length-kernel_size+1): \n",
    "        conv = np.dot(Seq[i:i+kernel_size], Kernel)\n",
    "        print(Seq[i:i+kernel_size], \"*\", Kernel, \"=> \", conv)\n",
    "\n",
    "        output.append(conv)\n",
    "\n",
    "    output = np.array(output)\n",
    "    \n",
    "    return output \n"
   ]
  },
  {
   "cell_type": "code",
   "execution_count": 35,
   "id": "bd7fc2c1",
   "metadata": {},
   "outputs": [
    {
     "name": "stdout",
     "output_type": "stream",
     "text": [
      "[0 3] * [1 2] =>  6\n",
      "[3 4] * [1 2] =>  11\n",
      "[4 5] * [1 2] =>  14\n"
     ]
    },
    {
     "data": {
      "text/plain": [
       "array([ 6, 11, 14])"
      ]
     },
     "execution_count": 35,
     "metadata": {},
     "output_type": "execute_result"
    }
   ],
   "source": [
    "output = Conv1D_Numpy(data, conv1d_filter)\n",
    "output"
   ]
  },
  {
   "cell_type": "markdown",
   "id": "a69b4177",
   "metadata": {},
   "source": [
    "### Using Keras "
   ]
  },
  {
   "cell_type": "code",
   "execution_count": 149,
   "id": "0a8aa80c",
   "metadata": {},
   "outputs": [],
   "source": [
    "def Conv1D_compile(n_filters, SequenceLength, n_features):\n",
    "    conv_model = tf.keras.Sequential([\n",
    "        tf.keras.layers.Conv1D(filters=n_filters,\n",
    "                               kernel_size=2,\n",
    "                               strides=1, \n",
    "                               padding='valid',\n",
    "                               input_shape=(SequenceLength, n_features), \n",
    "                               use_bias=False, name='c1d')])\n",
    "    \n",
    "    conv_model.compile(loss=tf.losses.MeanAbsoluteError(), \n",
    "                       optimizer=tf.optimizers.Adam(learning_rate=5e-2))\n",
    "\n",
    "    conv_model.summary()\n",
    "\n",
    "    return conv_model     \n",
    "\n",
    "\n",
    "def Conv1D_Fit_and_PlotWeights(model, X, y, epochs, n_weights, freq=20):\n",
    "    w, loss, mae = [], [], []\n",
    "\n",
    "    for r in range(epochs):\n",
    "        history = model.fit(X, y, verbose=0)\n",
    "        if r%freq==0:\n",
    "\n",
    "            w.append(np.sort(model.layers[0].get_weights()[0].reshape(n_weights)))\n",
    "            loss.append(history.history['loss'][0])\n",
    "\n",
    "    w = np.array(w)\n",
    "            \n",
    "    fig, ax = plt.subplots(figsize=(8,4))\n",
    "\n",
    "    epoch = np.arange(0,len(w))*20\n",
    "    \n",
    "    for n in range(n_weights): \n",
    "        label = \"w_{} -> {}\".format(n, n+1)\n",
    "        plt.plot(epoch,w[:,n], label=label, linewidth=3)\n",
    "        ax.axhline(n+1, c='gray', linestyle='--')\n",
    "\n",
    "    plt.xlabel(\"epoch\", fontsize=14)\n",
    "    plt.ylabel(\"weights\", fontsize=14)\n",
    "    plt.legend(loc='upper left', bbox_to_anchor=(1., 1.01), fontsize=14)\n",
    "    plt.show()\n",
    "    "
   ]
  },
  {
   "cell_type": "code",
   "execution_count": 158,
   "id": "f25b9476",
   "metadata": {},
   "outputs": [
    {
     "name": "stdout",
     "output_type": "stream",
     "text": [
      "Model: \"sequential_32\"\n",
      "_________________________________________________________________\n",
      "Layer (type)                 Output Shape              Param #   \n",
      "=================================================================\n",
      "c1d (Conv1D)                 (None, 3, 1)              2         \n",
      "=================================================================\n",
      "Total params: 2\n",
      "Trainable params: 2\n",
      "Non-trainable params: 0\n",
      "_________________________________________________________________\n"
     ]
    },
    {
     "name": "stderr",
     "output_type": "stream",
     "text": [
      "2021-08-27 12:23:20.259166: I tensorflow/core/grappler/optimizers/custom_graph_optimizer_registry.cc:112] Plugin optimizer for device_type GPU is enabled.\n"
     ]
    },
    {
     "data": {
      "image/png": "[encoded data removed]",
      "text/plain": [
       "<Figure size 576x288 with 1 Axes>"
      ]
     },
     "metadata": {
      "needs_background": "light"
     },
     "output_type": "display_data"
    }
   ],
   "source": [
    "X = data.reshape((1, data.shape[0], 1))\n",
    "y = output.reshape((1, output.shape[0], 1))\n",
    "\n",
    "model_cnn = Conv1D_compile(n_filters=1, SequenceLength=4, n_features=1)\n",
    "\n",
    "Conv1D_Fit_and_PlotWeights(model=model_cnn, X=X, y=y, \n",
    "                                     epochs=500, n_weights=2)"
   ]
  },
  {
   "cell_type": "code",
   "execution_count": null,
   "id": "87860872",
   "metadata": {},
   "outputs": [],
   "source": []
  },
  {
   "cell_type": "markdown",
   "id": "e16fdbf9",
   "metadata": {},
   "source": [
    "## 1D Convolution with Features "
   ]
  },
  {
   "cell_type": "markdown",
   "id": "5608b7c8",
   "metadata": {},
   "source": [
    "### using Numpy "
   ]
  },
  {
   "cell_type": "code",
   "execution_count": 132,
   "id": "2de03cca",
   "metadata": {},
   "outputs": [],
   "source": [
    "Input = np.array([[0, 0], [3, 6], [4, 7], [5, 8]])\n",
    "kernels = np.array([[1,2],\n",
    "                    [3,4]])\n",
    "Output = np.array([30, 57, 67])"
   ]
  },
  {
   "cell_type": "code",
   "execution_count": 133,
   "id": "7d53977a",
   "metadata": {},
   "outputs": [
    {
     "data": {
      "text/html": [
       "<div>\n",
       "<style scoped>\n",
       "    .dataframe tbody tr th:only-of-type {\n",
       "        vertical-align: middle;\n",
       "    }\n",
       "\n",
       "    .dataframe tbody tr th {\n",
       "        vertical-align: top;\n",
       "    }\n",
       "\n",
       "    .dataframe thead th {\n",
       "        text-align: right;\n",
       "    }\n",
       "</style>\n",
       "<table border=\"1\" class=\"dataframe\">\n",
       "  <thead>\n",
       "    <tr style=\"text-align: right;\">\n",
       "      <th></th>\n",
       "      <th>feature1</th>\n",
       "      <th>feature2</th>\n",
       "    </tr>\n",
       "  </thead>\n",
       "  <tbody>\n",
       "    <tr>\n",
       "      <th>0</th>\n",
       "      <td>0</td>\n",
       "      <td>0</td>\n",
       "    </tr>\n",
       "    <tr>\n",
       "      <th>1</th>\n",
       "      <td>3</td>\n",
       "      <td>6</td>\n",
       "    </tr>\n",
       "    <tr>\n",
       "      <th>2</th>\n",
       "      <td>4</td>\n",
       "      <td>7</td>\n",
       "    </tr>\n",
       "    <tr>\n",
       "      <th>3</th>\n",
       "      <td>5</td>\n",
       "      <td>8</td>\n",
       "    </tr>\n",
       "  </tbody>\n",
       "</table>\n",
       "</div>"
      ],
      "text/plain": [
       "   feature1  feature2\n",
       "0         0         0\n",
       "1         3         6\n",
       "2         4         7\n",
       "3         5         8"
      ]
     },
     "execution_count": 133,
     "metadata": {},
     "output_type": "execute_result"
    }
   ],
   "source": [
    "df = pd.DataFrame(data=Input, columns=[\"feature1\", \"feature2\"])\n",
    "df"
   ]
  },
  {
   "cell_type": "code",
   "execution_count": null,
   "id": "6cb25ec8",
   "metadata": {},
   "outputs": [],
   "source": []
  },
  {
   "cell_type": "code",
   "execution_count": 134,
   "id": "1d8794e0",
   "metadata": {},
   "outputs": [
    {
     "data": {
      "text/plain": [
       "array([0, 3, 4, 5])"
      ]
     },
     "execution_count": 134,
     "metadata": {},
     "output_type": "execute_result"
    }
   ],
   "source": [
    "df['feature1'].values"
   ]
  },
  {
   "cell_type": "code",
   "execution_count": 135,
   "id": "2f818de2",
   "metadata": {
    "scrolled": false
   },
   "outputs": [
    {
     "name": "stdout",
     "output_type": "stream",
     "text": [
      "[0 3] * [1 2] =>  6\n",
      "[3 4] * [1 2] =>  11\n",
      "[4 5] * [1 2] =>  14\n",
      "[ 6 11 14]\n",
      "\n",
      "[0 6] * [3 4] =>  24\n",
      "[6 7] * [3 4] =>  46\n",
      "[7 8] * [3 4] =>  53\n",
      "[24 46 53]\n",
      "\n",
      "Output: [30. 57. 67.]\n"
     ]
    }
   ],
   "source": [
    "Output = np.zeros(Output.shape)\n",
    "\n",
    "for i, col in enumerate(df.columns):\n",
    "    conv = Conv1D_Numpy(df[col].values, kernels[i])\n",
    "    print(conv)\n",
    "    print(\"\")\n",
    "    Output +=conv\n",
    "\n",
    "print(\"Output: {}\".format(Output))"
   ]
  },
  {
   "cell_type": "markdown",
   "id": "be041b36",
   "metadata": {},
   "source": [
    "### using Keras "
   ]
  },
  {
   "cell_type": "code",
   "execution_count": 159,
   "id": "b77292c1",
   "metadata": {},
   "outputs": [
    {
     "name": "stdout",
     "output_type": "stream",
     "text": [
      "Model: \"sequential_33\"\n",
      "_________________________________________________________________\n",
      "Layer (type)                 Output Shape              Param #   \n",
      "=================================================================\n",
      "c1d (Conv1D)                 (None, 3, 1)              4         \n",
      "=================================================================\n",
      "Total params: 4\n",
      "Trainable params: 4\n",
      "Non-trainable params: 0\n",
      "_________________________________________________________________\n"
     ]
    },
    {
     "name": "stderr",
     "output_type": "stream",
     "text": [
      "2021-08-27 12:24:20.454574: I tensorflow/core/grappler/optimizers/custom_graph_optimizer_registry.cc:112] Plugin optimizer for device_type GPU is enabled.\n"
     ]
    },
    {
     "data": {
      "image/png": "[encoded data removed]",
      "text/plain": [
       "<Figure size 576x288 with 1 Axes>"
      ]
     },
     "metadata": {
      "needs_background": "light"
     },
     "output_type": "display_data"
    },
    {
     "name": "stdout",
     "output_type": "stream",
     "text": [
      "CPU times: user 17.5 s, sys: 2.99 s, total: 20.5 s\n",
      "Wall time: 18.4 s\n"
     ]
    }
   ],
   "source": [
    "%%time\n",
    "\n",
    "X = Input.reshape(1,4,2)\n",
    "y = Output.reshape(1,3,1)\n",
    "\n",
    "model_wFeatures = Conv1D_compile(n_filters=1, SequenceLength=4, n_features=2)\n",
    "\n",
    "Conv1D_Fit_and_PlotWeights(model=model_wFeatures, \n",
    "                          X=X, y=y, \n",
    "                          epochs=1000, n_weights=4)"
   ]
  },
  {
   "cell_type": "markdown",
   "id": "61fd9cff",
   "metadata": {},
   "source": [
    "## 1D Convolution with multiple filters "
   ]
  },
  {
   "cell_type": "code",
   "execution_count": 156,
   "id": "bf3e3610",
   "metadata": {
    "scrolled": false
   },
   "outputs": [
    {
     "name": "stdout",
     "output_type": "stream",
     "text": [
      "Model: \"sequential_30\"\n",
      "_________________________________________________________________\n",
      "Layer (type)                 Output Shape              Param #   \n",
      "=================================================================\n",
      "c1d (Conv1D)                 (None, 3, 2)              4         \n",
      "=================================================================\n",
      "Total params: 4\n",
      "Trainable params: 4\n",
      "Non-trainable params: 0\n",
      "_________________________________________________________________\n"
     ]
    },
    {
     "name": "stderr",
     "output_type": "stream",
     "text": [
      "2021-08-27 12:22:52.850955: I tensorflow/core/grappler/optimizers/custom_graph_optimizer_registry.cc:112] Plugin optimizer for device_type GPU is enabled.\n"
     ]
    },
    {
     "data": {
      "image/png": "[encoded data removed]",
      "text/plain": [
       "<Figure size 576x288 with 1 Axes>"
      ]
     },
     "metadata": {
      "needs_background": "light"
     },
     "output_type": "display_data"
    }
   ],
   "source": [
    "X = np.array([0, 3, 4, 5]).reshape(1,4,1)\n",
    "y = np.array([[6, 12], [11, 25], [14, 32]]).reshape(1,3,2)\n",
    "\n",
    "model_wfilters = Conv1D_compile(n_filters=2, SequenceLength=4, n_features=1)\n",
    "\n",
    "Conv1D_Fit_and_PlotWeights(model=model_wfilters, \n",
    "                          X=X, y=y, \n",
    "                          epochs=200, n_weights=4)\n"
   ]
  },
  {
   "cell_type": "code",
   "execution_count": null,
   "id": "b1c6d078",
   "metadata": {},
   "outputs": [],
   "source": []
  },
  {
   "cell_type": "markdown",
   "id": "3e112db9",
   "metadata": {},
   "source": [
    "### using Numpy \n"
   ]
  },
  {
   "cell_type": "code",
   "execution_count": null,
   "id": "e98edeb4",
   "metadata": {},
   "outputs": [],
   "source": [
    "n_steps = 3 \n",
    "L = len(raw_seq) \n",
    "\n",
    "X,y = [], [] \n",
    "\n",
    "for i in range(L-n_steps): \n",
    "    X.append(raw_seq[i:i+n_steps])\n",
    "    y.append(raw_seq[i+n_steps])\n",
    "    \n",
    "X = np.array(X)\n",
    "y = np.array(y)\n",
    "\n",
    "for i, j in zip(X,y): \n",
    "    print(i, j)\n",
    "    \n",
    "    "
   ]
  },
  {
   "cell_type": "code",
   "execution_count": null,
   "id": "e19e0ea3",
   "metadata": {},
   "outputs": [],
   "source": [
    "n_features = 1 \n",
    "X = X.reshape((X.shape[0], X.shape[1], n_features))\n",
    "X.shape"
   ]
  },
  {
   "cell_type": "markdown",
   "id": "bbc8757a",
   "metadata": {},
   "source": [
    "\n",
    "### using Keras"
   ]
  },
  {
   "cell_type": "code",
   "execution_count": null,
   "id": "68597937",
   "metadata": {},
   "outputs": [],
   "source": [
    "y.reshape((len(y), 1, n_features))"
   ]
  },
  {
   "cell_type": "code",
   "execution_count": null,
   "id": "2f64f175",
   "metadata": {},
   "outputs": [],
   "source": [
    "conv_model = tf.keras.Sequential([\n",
    "    tf.keras.layers.Conv1D(filters=1,kernel_size=2,\n",
    "                           activation='relu', \n",
    "                           input_shape=(n_steps, n_features)),\n",
    "    tf.keras.layers.Flatten(),\n",
    "    tf.keras.layers.Dense(units=50, activation='relu'),\n",
    "    tf.keras.layers.Dense(units=1),\n",
    "])\n",
    "\n",
    "conv_model.compile(optimizer='adam', loss='mse')"
   ]
  },
  {
   "cell_type": "code",
   "execution_count": null,
   "id": "ddbfeaf0",
   "metadata": {},
   "outputs": [],
   "source": [
    "conv_model.fit(X,y, epochs=1000, verbose=0)"
   ]
  },
  {
   "cell_type": "code",
   "execution_count": null,
   "id": "28aeee0f",
   "metadata": {},
   "outputs": [],
   "source": [
    "x_input = np.array([70, 80, 90])\n",
    "x_input = x_input.reshape((1, n_steps, n_features))\n",
    "yhat = conv_model.predict(x_input, verbose=0)\n",
    "print(yhat)"
   ]
  },
  {
   "cell_type": "code",
   "execution_count": null,
   "id": "d36dee58",
   "metadata": {},
   "outputs": [],
   "source": [
    "conv_model.summary()"
   ]
  },
  {
   "cell_type": "code",
   "execution_count": null,
   "id": "536bc6ea",
   "metadata": {},
   "outputs": [],
   "source": [
    "conv_model.layers[0].get_weights()[0].reshape(4,)"
   ]
  },
  {
   "cell_type": "code",
   "execution_count": null,
   "id": "6a611082",
   "metadata": {},
   "outputs": [],
   "source": []
  },
  {
   "cell_type": "code",
   "execution_count": null,
   "id": "d285efa2",
   "metadata": {},
   "outputs": [],
   "source": [
    "..."
   ]
  },
  {
   "cell_type": "markdown",
   "id": "492ca987",
   "metadata": {},
   "source": [
    "## References \n",
    "1.[Spell Out Convolution 1D (in CNN’s)](http://www.jussihuotari.com/2017/12/20/spell-out-convolution-1d-in-cnns/)\n",
    "\n",
    "2.[How to Develop Convolutional Neural Network Models for Time Series Forecasting\n",
    "](https://machinelearningmastery.com/how-to-develop-convolutional-neural-network-models-for-time-series-forecasting/)"
   ]
  }
 ],
 "metadata": {
  "kernelspec": {
   "display_name": "Python 3 (ipykernel)",
   "language": "python",
   "name": "python3"
  },
  "language_info": {
   "codemirror_mode": {
    "name": "ipython",
    "version": 3
   },
   "file_extension": ".py",
   "mimetype": "text/x-python",
   "name": "python",
   "nbconvert_exporter": "python",
   "pygments_lexer": "ipython3",
   "version": "3.8.10"
  },
  "toc": {
   "base_numbering": 1,
   "nav_menu": {},
   "number_sections": true,
   "sideBar": true,
   "skip_h1_title": true,
   "title_cell": "Table of Contents",
   "title_sidebar": "Contents",
   "toc_cell": true,
   "toc_position": {
    "height": "calc(100% - 180px)",
    "left": "10px",
    "top": "150px",
    "width": "165px"
   },
   "toc_section_display": true,
   "toc_window_display": false
  }
 },
 "nbformat": 4,
 "nbformat_minor": 5
}

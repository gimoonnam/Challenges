{
  "nbformat": 4,
  "nbformat_minor": 0,
  "metadata": {
    "colab": {
      "name": "volatility.ipynb",
      "version": "0.3.2",
      "provenance": [],
      "collapsed_sections": [],
      "include_colab_link": true
    },
    "kernelspec": {
      "name": "python3",
      "display_name": "Python 3"
    }
  },
  "cells": [
    {
      "cell_type": "markdown",
      "metadata": {
        "id": "view-in-github",
        "colab_type": "text"
      },
      "source": [
        "<a href=\"https://colab.research.google.com/github/gimoonnam/AI-for-trading/blob/master/volatility.ipynb\" target=\"_parent\"><img src=\"https://colab.research.google.com/assets/colab-badge.svg\" alt=\"Open In Colab\"/></a>"
      ]
    },
    {
      "cell_type": "code",
      "metadata": {
        "id": "UIFn2_hA6uwM",
        "colab_type": "code",
        "colab": {}
      },
      "source": [
        "import numpy as np\n",
        "import pandas as pd "
      ],
      "execution_count": 0,
      "outputs": []
    },
    {
      "cell_type": "code",
      "metadata": {
        "id": "WEtosDzvty0H",
        "colab_type": "code",
        "outputId": "d78b2285-1579-4490-b1e0-a4fb88fee44e",
        "colab": {
          "base_uri": "https://localhost:8080/",
          "height": 247
        }
      },
      "source": [
        "url = 'https://raw.githubusercontent.com/gimoonnam/AI-for-trading/master/prices.csv'\n",
        "\n",
        "df4 = pd.read_csv(url)\n",
        "\n",
        "print(df4.head())\n",
        "\n",
        "lprice = np.log(df4.loc[:,'price'])\n",
        "\n",
        "df4['price'] = lprice\n",
        "\n",
        "print(df4.head())\n",
        "\n",
        "\n",
        "std = df4['price'].groupby(df4['ticker']).std()\n",
        "\n",
        "std.idxmax(axis = 0)\n",
        "\n",
        "\n"
      ],
      "execution_count": 5,
      "outputs": [
        {
          "output_type": "stream",
          "text": [
            "        price        date ticker\n",
            "0  104.000000  2016-07-01      A\n",
            "1  104.878151  2016-07-05      A\n",
            "2  104.411909  2016-07-06      A\n",
            "3  104.931957  2016-07-07      A\n",
            "4  104.421274  2016-07-08      A\n",
            "      price        date ticker\n",
            "0  4.644391  2016-07-01      A\n",
            "1  4.652799  2016-07-05      A\n",
            "2  4.648344  2016-07-06      A\n",
            "3  4.653312  2016-07-07      A\n",
            "4  4.648433  2016-07-08      A\n"
          ],
          "name": "stdout"
        },
        {
          "output_type": "execute_result",
          "data": {
            "text/plain": [
              "'B'"
            ]
          },
          "metadata": {
            "tags": []
          },
          "execution_count": 5
        }
      ]
    },
    {
      "cell_type": "markdown",
      "metadata": {
        "id": "Hdrvkbgm63UA",
        "colab_type": "text"
      },
      "source": [
        "[how to import csv file on colab](https://towardsdatascience.com/3-ways-to-load-csv-files-into-colab-7c14fcbdcb92)\n",
        "\n",
        "\n",
        "[how to handle Dataframe](https://3months.tistory.com/292)\n"
      ]
    },
    {
      "cell_type": "code",
      "metadata": {
        "id": "qgYa9NXl64xU",
        "colab_type": "code",
        "outputId": "505299f8-8ed6-41dd-bbef-7505c2559d52",
        "colab": {
          "base_uri": "https://localhost:8080/",
          "height": 36
        }
      },
      "source": [
        "def get_most_volatile(prices):\n",
        "    \"\"\"Return the ticker symbol for the most volatile stock.\n",
        "\n",
        "    Parameters\n",
        "    ----------\n",
        "    prices : pandas.DataFrame\n",
        "        a pandas.DataFrame object with columns: ['ticker', 'date', 'price']\n",
        "    \n",
        "    Returns\n",
        "    -------\n",
        "    ticker : string\n",
        "        ticker symbol for the most volatile stock\n",
        "    \"\"\"\n",
        "    # TODO: Fill in this function.\n",
        "  \n",
        "    lprice = np.log(prices.loc[:,'price'])\n",
        "\n",
        "    prices['price'] = lprice\n",
        "\n",
        "    std = prices['price'].groupby(prices['ticker']).std()\n",
        "\n",
        "    return std.idxmax(axis = 0)\n",
        "    \n",
        "\n",
        "\n",
        "def test_run(url):\n",
        "    \n",
        "    \"\"\"Test run get_most_volatile() with stock prices from a file.\"\"\"\n",
        "    \n",
        "    prices = pd.read_csv(url)\n",
        "    print(\"Most volatile stock: {}\".format(get_most_volatile(prices)))\n",
        "\n",
        "\n",
        "if __name__ == '__main__':\n",
        "    url = 'https://raw.githubusercontent.com/gimoonnam/AI-for-trading/master/prices.csv'\n",
        "    test_run(url)"
      ],
      "execution_count": 6,
      "outputs": [
        {
          "output_type": "stream",
          "text": [
            "Most volatile stock: B\n"
          ],
          "name": "stdout"
        }
      ]
    },
    {
      "cell_type": "markdown",
      "metadata": {
        "id": "4DbnrxdyRYXx",
        "colab_type": "text"
      },
      "source": [
        "# Estimate Volatility"
      ]
    },
    {
      "cell_type": "code",
      "metadata": {
        "id": "6aV2JBqySHtp",
        "colab_type": "code",
        "colab": {}
      },
      "source": [
        "import matplotlib.pyplot as plt\n",
        "%matplotlib inline\n",
        "plt.rc('figure', figsize=(10, 4))"
      ],
      "execution_count": 0,
      "outputs": []
    },
    {
      "cell_type": "code",
      "metadata": {
        "id": "7MiGNLlzRmqM",
        "colab_type": "code",
        "colab": {
          "base_uri": "https://localhost:8080/",
          "height": 228
        },
        "outputId": "f800b894-e03d-43f3-d3f6-9cb16d84d1b9"
      },
      "source": [
        "url = 'https://raw.githubusercontent.com/gimoonnam/AI-for-trading/master/data.csv'\n",
        "\n",
        "df = pd.read_csv(url)\n",
        "\n",
        "print(df.head())\n",
        "\n",
        "\n",
        "lprice = np.log(df.loc[:,'price'])\n",
        "\n",
        "df['price'] = lprice\n",
        "\n",
        "print(df.head())"
      ],
      "execution_count": 15,
      "outputs": [
        {
          "output_type": "stream",
          "text": [
            "        price        date\n",
            "0  558.460000  2013-07-02\n",
            "1  556.617926  2013-07-03\n",
            "2  558.441898  2013-07-05\n",
            "3  556.181508  2013-07-08\n",
            "4  558.742118  2013-07-09\n",
            "      price        date\n",
            "0  6.325183  2013-07-02\n",
            "1  6.321879  2013-07-03\n",
            "2  6.325151  2013-07-05\n",
            "3  6.321095  2013-07-08\n",
            "4  6.325688  2013-07-09\n"
          ],
          "name": "stdout"
        }
      ]
    },
    {
      "cell_type": "code",
      "metadata": {
        "id": "NhPtEygIViFp",
        "colab_type": "code",
        "colab": {
          "base_uri": "https://localhost:8080/",
          "height": 269
        },
        "outputId": "9651b65b-7336-4008-81ed-3a4fea7d7db5"
      },
      "source": [
        "df.plot(figsize=(10,4))\n",
        "plt.show()"
      ],
      "execution_count": 19,
      "outputs": [
        {
          "output_type": "display_data",
          "data": {
            "image/png": "[encoded data removed]",
            "text/plain": [
              "<Figure size 720x288 with 1 Axes>"
            ]
          },
          "metadata": {
            "tags": []
          }
        }
      ]
    },
    {
      "cell_type": "code",
      "metadata": {
        "id": "sKPsxRGBVh_2",
        "colab_type": "code",
        "colab": {}
      },
      "source": [
        "s= pd.Series(np.random.randn(1000), index=pd.date_range('1/1/2000', periods=1000))\n",
        "s= s.cumsum()"
      ],
      "execution_count": 0,
      "outputs": []
    },
    {
      "cell_type": "code",
      "metadata": {
        "id": "ymO1_nOKbeRk",
        "colab_type": "code",
        "colab": {
          "base_uri": "https://localhost:8080/",
          "height": 297
        },
        "outputId": "0ea85df7-af53-411f-bd20-01ddb3259c95"
      },
      "source": [
        "s.plot(figsize=(10,4))"
      ],
      "execution_count": 29,
      "outputs": [
        {
          "output_type": "execute_result",
          "data": {
            "text/plain": [
              "<matplotlib.axes._subplots.AxesSubplot at 0x7fac2be64828>"
            ]
          },
          "metadata": {
            "tags": []
          },
          "execution_count": 29
        },
        {
          "output_type": "display_data",
          "data": {
            "image/png": "[encoded data removed]",
            "text/plain": [
              "<Figure size 720x288 with 1 Axes>"
            ]
          },
          "metadata": {
            "tags": []
          }
        }
      ]
    },
    {
      "cell_type": "code",
      "metadata": {
        "id": "TMR7oiTrbunf",
        "colab_type": "code",
        "colab": {}
      },
      "source": [
        "r = s.ewm(0.7)"
      ],
      "execution_count": 0,
      "outputs": []
    },
    {
      "cell_type": "code",
      "metadata": {
        "id": "HyQxKVMNcqSR",
        "colab_type": "code",
        "colab": {}
      },
      "source": [
        ""
      ],
      "execution_count": 0,
      "outputs": []
    },
    {
      "cell_type": "code",
      "metadata": {
        "id": "JIiiNEdvb0WV",
        "colab_type": "code",
        "colab": {
          "base_uri": "https://localhost:8080/",
          "height": 292
        },
        "outputId": "02feb7e7-4ef4-4b01-a287-c4f7ab594b65"
      },
      "source": [
        ""
      ],
      "execution_count": 38,
      "outputs": [
        {
          "output_type": "error",
          "ename": "AttributeError",
          "evalue": "ignored",
          "traceback": [
            "\u001b[0;31m---------------------------------------------------------------------------\u001b[0m",
            "\u001b[0;31mAttributeError\u001b[0m                            Traceback (most recent call last)",
            "\u001b[0;32m<ipython-input-38-09d422ca5caa>\u001b[0m in \u001b[0;36m<module>\u001b[0;34m()\u001b[0m\n\u001b[0;32m----> 1\u001b[0;31m \u001b[0mr\u001b[0m\u001b[0;34m.\u001b[0m\u001b[0mplot\u001b[0m\u001b[0;34m(\u001b[0m\u001b[0mfigsize\u001b[0m\u001b[0;34m=\u001b[0m\u001b[0;34m(\u001b[0m\u001b[0;36m10\u001b[0m\u001b[0;34m,\u001b[0m\u001b[0;36m4\u001b[0m\u001b[0;34m)\u001b[0m\u001b[0;34m)\u001b[0m\u001b[0;34m\u001b[0m\u001b[0;34m\u001b[0m\u001b[0m\n\u001b[0m",
            "\u001b[0;32m/usr/local/lib/python3.6/dist-packages/pandas/core/window.py\u001b[0m in \u001b[0;36m__getattr__\u001b[0;34m(self, attr)\u001b[0m\n\u001b[1;32m    148\u001b[0m \u001b[0;34m\u001b[0m\u001b[0m\n\u001b[1;32m    149\u001b[0m         raise AttributeError(\"%r object has no attribute %r\" %\n\u001b[0;32m--> 150\u001b[0;31m                              (type(self).__name__, attr))\n\u001b[0m\u001b[1;32m    151\u001b[0m \u001b[0;34m\u001b[0m\u001b[0m\n\u001b[1;32m    152\u001b[0m     \u001b[0;32mdef\u001b[0m \u001b[0m_dir_additions\u001b[0m\u001b[0;34m(\u001b[0m\u001b[0mself\u001b[0m\u001b[0;34m)\u001b[0m\u001b[0;34m:\u001b[0m\u001b[0;34m\u001b[0m\u001b[0;34m\u001b[0m\u001b[0m\n",
            "\u001b[0;31mAttributeError\u001b[0m: 'EWM' object has no attribute 'plot'"
          ]
        }
      ]
    },
    {
      "cell_type": "code",
      "metadata": {
        "id": "qrCkOkABklQ-",
        "colab_type": "code",
        "colab": {}
      },
      "source": [
        "def estimate_volatility(prices, l):\n",
        "    \"\"\"Create an exponential moving average model of the volatility of a stock\n",
        "    price, and return the most recent (last) volatility estimate.\n",
        "    \n",
        "    Parameters\n",
        "    ----------\n",
        "    prices : pandas.Series\n",
        "        A series of adjusted closing prices for a stock.\n",
        "        \n",
        "    l : float\n",
        "        The 'lambda' parameter of the exponential moving average model. Making\n",
        "        this value smaller will cause the model to weight older terms less \n",
        "        relative to more recent terms.\n",
        "        \n",
        "    Returns\n",
        "    -------\n",
        "    last_vol : float\n",
        "        The last element of your exponential moving averge volatility model series.\n",
        "    \n",
        "    \"\"\"\n",
        "    # TODO: Implement the exponential moving average volatility model and return the last value.\n",
        "    \n",
        "    print(l)\n",
        "\n",
        "    \n",
        "    pass\n",
        "    \n",
        "def test_run(url):\n",
        "    \"\"\"Test run get_most_volatile() with stock prices from a file.\"\"\"\n",
        "    prices = pd.read_csv(url)\n",
        "    print(\"Most recent volatility estimate: {:.6f}\".format(estimate_volatility(prices, 0.7)))\n",
        "\n",
        "\n",
        "if __name__ == '__main__':\n",
        "    url = 'https://raw.githubusercontent.com/gimoonnam/AI-for-trading/master/prices.csv'\n",
        "    test_run(url)"
      ],
      "execution_count": 0,
      "outputs": []
    }
  ]
}
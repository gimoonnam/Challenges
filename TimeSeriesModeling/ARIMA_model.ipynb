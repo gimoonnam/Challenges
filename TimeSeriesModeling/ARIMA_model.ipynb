{
  "nbformat": 4,
  "nbformat_minor": 0,
  "metadata": {
    "colab": {
      "name": "ARIMA model.ipynb",
      "version": "0.3.2",
      "provenance": [],
      "include_colab_link": true
    },
    "kernelspec": {
      "name": "python3",
      "display_name": "Python 3"
    }
  },
  "cells": [
    {
      "cell_type": "markdown",
      "metadata": {
        "id": "view-in-github",
        "colab_type": "text"
      },
      "source": [
        "<a href=\"https://colab.research.google.com/github/gimoonnam/FromColab/blob/master/TimeSeriesModeling/ARIMA_model.ipynb\" target=\"_parent\"><img src=\"https://colab.research.google.com/assets/colab-badge.svg\" alt=\"Open In Colab\"/></a>"
      ]
    },
    {
      "cell_type": "markdown",
      "metadata": {
        "id": "BXGk6QQ1amLT",
        "colab_type": "text"
      },
      "source": [
        "#ARIMA\n",
        "Autoregressive Integrated Moving Average model\n",
        ": a class of statistical model for analyzing and forecasting time series data "
      ]
    },
    {
      "cell_type": "code",
      "metadata": {
        "id": "flpBIyQAZ9Bl",
        "colab_type": "code",
        "colab": {}
      },
      "source": [
        ""
      ],
      "execution_count": 0,
      "outputs": []
    }
  ]
}
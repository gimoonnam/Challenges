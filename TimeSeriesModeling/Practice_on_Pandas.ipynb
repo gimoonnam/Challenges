{
  "nbformat": 4,
  "nbformat_minor": 0,
  "metadata": {
    "colab": {
      "name": "Practice on Pandas.ipynb",
      "version": "0.3.2",
      "provenance": [],
      "collapsed_sections": [],
      "include_colab_link": true
    },
    "kernelspec": {
      "name": "python3",
      "display_name": "Python 3"
    }
  },
  "cells": [
    {
      "cell_type": "markdown",
      "metadata": {
        "id": "view-in-github",
        "colab_type": "text"
      },
      "source": [
        "<a href=\"https://colab.research.google.com/github/gimoonnam/AI-for-trading/blob/master/Practice_on_Pandas.ipynb\" target=\"_parent\"><img src=\"https://colab.research.google.com/assets/colab-badge.svg\" alt=\"Open In Colab\"/></a>"
      ]
    },
    {
      "cell_type": "code",
      "metadata": {
        "id": "DdEmVGprNf2J",
        "colab_type": "code",
        "colab": {}
      },
      "source": [
        "import numpy as np \n",
        "import pandas as pd"
      ],
      "execution_count": 0,
      "outputs": []
    },
    {
      "cell_type": "markdown",
      "metadata": {
        "id": "-5CjuqxrbqiW",
        "colab_type": "text"
      },
      "source": [
        "## How to deal with dataframe in Pandas "
      ]
    },
    {
      "cell_type": "code",
      "metadata": {
        "id": "dWVGF_VGMmiU",
        "colab_type": "code",
        "colab": {
          "base_uri": "https://localhost:8080/",
          "height": 51
        },
        "outputId": "deff8726-d4a3-4ece-e433-07c72beddaed"
      },
      "source": [
        "a = np.array ([[1,2,3],[4,5,6]])\n",
        "print(a[0])   # row \n",
        "print(a[:,1]) # column"
      ],
      "execution_count": 31,
      "outputs": [
        {
          "output_type": "stream",
          "text": [
            "[1 2 3]\n",
            "[2 5]\n"
          ],
          "name": "stdout"
        }
      ]
    },
    {
      "cell_type": "code",
      "metadata": {
        "id": "tY7NWuHJNdv5",
        "colab_type": "code",
        "colab": {
          "base_uri": "https://localhost:8080/",
          "height": 68
        },
        "outputId": "6b55be47-f72a-46ca-81f2-0d49edceac2f"
      },
      "source": [
        "df = pd.DataFrame(a, index=[0,1], columns=['A','B','C'])\n",
        "print(df)"
      ],
      "execution_count": 15,
      "outputs": [
        {
          "output_type": "stream",
          "text": [
            "   A  B  C\n",
            "0  1  2  3\n",
            "1  4  5  6\n"
          ],
          "name": "stdout"
        }
      ]
    },
    {
      "cell_type": "code",
      "metadata": {
        "id": "jsspLzrwNlpr",
        "colab_type": "code",
        "colab": {
          "base_uri": "https://localhost:8080/",
          "height": 68
        },
        "outputId": "07f8dc25-f635-47c2-e989-743eec429798"
      },
      "source": [
        "print(df.shape)\n",
        "print(df.index, len(df.index))\n",
        "print(df.columns, len(df.columns), list(df.columns))"
      ],
      "execution_count": 22,
      "outputs": [
        {
          "output_type": "stream",
          "text": [
            "(2, 3)\n",
            "Int64Index([0, 1], dtype='int64') 2\n",
            "Index(['A', 'B', 'C'], dtype='object') 3 ['A', 'B', 'C']\n"
          ],
          "name": "stdout"
        }
      ]
    },
    {
      "cell_type": "code",
      "metadata": {
        "id": "z0mPYQBqOH8i",
        "colab_type": "code",
        "colab": {
          "base_uri": "https://localhost:8080/",
          "height": 238
        },
        "outputId": "2b868ea2-a06d-4d03-9eb6-a76c854b0524"
      },
      "source": [
        "df2 = pd.DataFrame({\"A\":[1,4,7], \"B\":[2,5,8], \"C\":[3,6,9] })\n",
        "print(df2)\n",
        "print(df2.shape)\n",
        "print(df2.iloc[0]) # print 0th row \n",
        "print(df2.loc[:,'A'])"
      ],
      "execution_count": 41,
      "outputs": [
        {
          "output_type": "stream",
          "text": [
            "   A  B  C\n",
            "0  1  2  3\n",
            "1  4  5  6\n",
            "2  7  8  9\n",
            "(3, 3)\n",
            "A    1\n",
            "B    2\n",
            "C    3\n",
            "Name: 0, dtype: int64\n",
            "0    1\n",
            "1    4\n",
            "2    7\n",
            "Name: A, dtype: int64\n"
          ],
          "name": "stdout"
        }
      ]
    },
    {
      "cell_type": "code",
      "metadata": {
        "id": "p7kJwbxaRwb-",
        "colab_type": "code",
        "colab": {
          "base_uri": "https://localhost:8080/",
          "height": 68
        },
        "outputId": "a31e707d-8268-43b9-d21d-53aced665558"
      },
      "source": [
        "# select a row and get the mean and std \n",
        "srow = df2.iloc[0]\n",
        "print(type(srow))\n",
        "print(srow.mean())\n",
        "print(srow.std())"
      ],
      "execution_count": 55,
      "outputs": [
        {
          "output_type": "stream",
          "text": [
            "<class 'pandas.core.series.Series'>\n",
            "2.0\n",
            "1.0\n"
          ],
          "name": "stdout"
        }
      ]
    },
    {
      "cell_type": "code",
      "metadata": {
        "id": "E99TH_MUOypF",
        "colab_type": "code",
        "colab": {
          "base_uri": "https://localhost:8080/",
          "height": 68
        },
        "outputId": "4fc62337-38f5-4ed9-f212-b81d5db549e5"
      },
      "source": [
        "# select a column and get the mean and std \n",
        "s = pd.Series(df2.loc[:,'A']) \n",
        "print(type(df2))\n",
        "print(type(s))\n",
        "print(np.mean(s), np.std(s))"
      ],
      "execution_count": 51,
      "outputs": [
        {
          "output_type": "stream",
          "text": [
            "<class 'pandas.core.frame.DataFrame'>\n",
            "<class 'pandas.core.series.Series'>\n",
            "4.0 2.449489742783178\n"
          ],
          "name": "stdout"
        }
      ]
    },
    {
      "cell_type": "code",
      "metadata": {
        "id": "w68FmcmnQgF-",
        "colab_type": "code",
        "colab": {
          "base_uri": "https://localhost:8080/",
          "height": 170
        },
        "outputId": "fde957cf-e43a-4804-f8a5-939c6a38665c"
      },
      "source": [
        "data = np.array([[1, 2, 3], [4, 5, 6], [7, 8, 9]])\n",
        "\n",
        "df3=pd.DataFrame(data=data, index=[2,'A',4],columns=[48, 49, 50])\n",
        "\n",
        "print(df3)\n",
        "\n",
        "print(df3.iloc[0][49])\n",
        "\n",
        "df3.iloc[0][49]=100\n",
        "\n",
        "print(df3)"
      ],
      "execution_count": 112,
      "outputs": [
        {
          "output_type": "stream",
          "text": [
            "   48  49  50\n",
            "2   1   2   3\n",
            "A   4   5   6\n",
            "4   7   8   9\n",
            "2\n",
            "   48   49  50\n",
            "2   1  100   3\n",
            "A   4    5   6\n",
            "4   7    8   9\n"
          ],
          "name": "stdout"
        }
      ]
    },
    {
      "cell_type": "code",
      "metadata": {
        "id": "rAjM8YrKTqjf",
        "colab_type": "code",
        "colab": {
          "base_uri": "https://localhost:8080/",
          "height": 153
        },
        "outputId": "45d0ac82-a83b-4fa0-b8c3-305966091dfe"
      },
      "source": [
        "print(df3.loc['A'])\n",
        "\n",
        "print(df3.iloc[2]) #display 2nd row from 0-th row "
      ],
      "execution_count": 62,
      "outputs": [
        {
          "output_type": "stream",
          "text": [
            "48    4\n",
            "49    5\n",
            "50    6\n",
            "Name: A, dtype: int64\n",
            "48    7\n",
            "49    8\n",
            "50    9\n",
            "Name: 4, dtype: int64\n"
          ],
          "name": "stdout"
        }
      ]
    },
    {
      "cell_type": "code",
      "metadata": {
        "id": "3tvEHCttcQ86",
        "colab_type": "code",
        "colab": {
          "base_uri": "https://localhost:8080/",
          "height": 34
        },
        "outputId": "c2e724ec-111f-4eb8-a9a4-2eaec2bb23ef"
      },
      "source": [
        "log_df3= np.log(df3)\n",
        "\n",
        "print(type(log_df3))"
      ],
      "execution_count": 115,
      "outputs": [
        {
          "output_type": "stream",
          "text": [
            "<class 'pandas.core.frame.DataFrame'>\n"
          ],
          "name": "stdout"
        }
      ]
    },
    {
      "cell_type": "markdown",
      "metadata": {
        "id": "jbSjQ8EtXS7Q",
        "colab_type": "text"
      },
      "source": [
        "#Series에 대한 데이타 그룹화 \n",
        "\n",
        "[link](https://nittaku.tistory.com/131)"
      ]
    },
    {
      "cell_type": "code",
      "metadata": {
        "id": "kiUbSD4UT2HW",
        "colab_type": "code",
        "colab": {
          "base_uri": "https://localhost:8080/",
          "height": 221
        },
        "outputId": "fb093d63-b1fb-45bd-d366-593389604f76"
      },
      "source": [
        "url = 'https://raw.githubusercontent.com/gimoonnam/AI-for-trading/master/prices.csv'\n",
        "\n",
        "df4 = pd.read_csv(url)\n",
        "\n",
        "print(df4.head())\n",
        "\n",
        "lprice = np.log(df4.loc[:,'price'])\n",
        "\n",
        "df4['price'] = lprice\n",
        "\n",
        "print(df4.head())\n",
        "\n"
      ],
      "execution_count": 136,
      "outputs": [
        {
          "output_type": "stream",
          "text": [
            "        price        date ticker\n",
            "0  104.000000  2016-07-01      A\n",
            "1  104.878151  2016-07-05      A\n",
            "2  104.411909  2016-07-06      A\n",
            "3  104.931957  2016-07-07      A\n",
            "4  104.421274  2016-07-08      A\n",
            "      price        date ticker\n",
            "0  4.644391  2016-07-01      A\n",
            "1  4.652799  2016-07-05      A\n",
            "2  4.648344  2016-07-06      A\n",
            "3  4.653312  2016-07-07      A\n",
            "4  4.648433  2016-07-08      A\n"
          ],
          "name": "stdout"
        }
      ]
    },
    {
      "cell_type": "code",
      "metadata": {
        "id": "BmrZB47cUOWA",
        "colab_type": "code",
        "colab": {
          "base_uri": "https://localhost:8080/",
          "height": 34
        },
        "outputId": "29053b92-909f-417c-ebf5-f54dcbd1b18c"
      },
      "source": [
        "std = df4['price'].groupby(df4['ticker']).std()\n",
        "\n",
        "std.idxmax(axis = 0)"
      ],
      "execution_count": 139,
      "outputs": [
        {
          "output_type": "execute_result",
          "data": {
            "text/plain": [
              "'B'"
            ]
          },
          "metadata": {
            "tags": []
          },
          "execution_count": 139
        }
      ]
    },
    {
      "cell_type": "code",
      "metadata": {
        "id": "oxubfgiQa2DK",
        "colab_type": "code",
        "colab": {}
      },
      "source": [
        ""
      ],
      "execution_count": 0,
      "outputs": []
    }
  ]
}
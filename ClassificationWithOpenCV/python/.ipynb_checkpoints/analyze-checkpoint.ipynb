{
 "cells": [
  {
   "cell_type": "code",
   "execution_count": 1,
   "metadata": {},
   "outputs": [],
   "source": [
    "import os\n",
    "import numpy as np\n",
    "import matplotlib.pyplot as plt"
   ]
  },
  {
   "cell_type": "code",
   "execution_count": 29,
   "metadata": {},
   "outputs": [],
   "source": [
    "directory = '../data/'\n",
    "names = ['moon','circle','blob']\n",
    "\n",
    "def ImportData(name, size,noise):\n",
    "    Inputfile = os.path.join(directory,'%s_%s_%s.txt'% (name,size,noise))\n",
    "    print(Inputfile)\n",
    "\n",
    "    with open(Inputfile) as f:\n",
    "        lines = f.readlines()\n",
    "    data = []\n",
    "    for l in lines:\n",
    "        values = l.split()\n",
    "        data.append([float(values[0]),float(values[1]),float(values[2])]);\n",
    "    \n",
    "    data = np.array(data)\n",
    "    return data\n",
    "\n",
    "\n",
    "def PlotData(data):\n",
    "    idx = data[:,2];\n",
    "    \n",
    "    \n",
    "    "
   ]
  },
  {
   "cell_type": "code",
   "execution_count": 30,
   "metadata": {},
   "outputs": [
    {
     "name": "stdout",
     "output_type": "stream",
     "text": [
      "../data/moon_large_low.txt\n",
      "../data/moon_large_high.txt\n"
     ]
    }
   ],
   "source": [
    "mLl = ImportData('moon','large','low')\n",
    "mLh = ImportData('moon','large','high')"
   ]
  },
  {
   "cell_type": "code",
   "execution_count": 47,
   "metadata": {
    "scrolled": true
   },
   "outputs": [
    {
     "name": "stdout",
     "output_type": "stream",
     "text": [
      "(array([   1,    2,    3,    4,    6,    7,   10,   13,   14,   15,   16,\n",
      "         17,   19,   25,   27,   28,   30,   31,   32,   34,   35,   36,\n",
      "         38,   40,   42,   44,   45,   46,   49,   50,   52,   53,   55,\n",
      "         56,   59,   60,   61,   62,   66,   68,   69,   71,   72,   76,\n",
      "         83,   84,   86,   87,   88,   91,   92,   94,   99,  100,  101,\n",
      "        103,  104,  105,  110,  111,  112,  118,  120,  121,  122,  127,\n",
      "        128,  130,  135,  137,  138,  140,  141,  142,  147,  149,  150,\n",
      "        153,  158,  160,  163,  167,  171,  172,  175,  179,  182,  184,\n",
      "        185,  189,  191,  192,  193,  199,  200,  202,  203,  205,  206,\n",
      "        207,  209,  210,  216,  218,  219,  220,  221,  222,  223,  224,\n",
      "        228,  229,  232,  233,  235,  236,  238,  239,  241,  242,  247,\n",
      "        248,  250,  251,  254,  256,  257,  258,  259,  263,  265,  267,\n",
      "        269,  271,  276,  277,  280,  281,  283,  284,  288,  293,  294,\n",
      "        295,  296,  304,  305,  306,  307,  308,  309,  311,  313,  317,\n",
      "        319,  320,  324,  325,  329,  333,  338,  343,  345,  346,  349,\n",
      "        350,  351,  354,  356,  357,  361,  363,  364,  365,  366,  368,\n",
      "        369,  372,  374,  375,  376,  378,  379,  381,  382,  383,  386,\n",
      "        388,  389,  390,  400,  403,  404,  405,  410,  412,  413,  415,\n",
      "        416,  420,  425,  427,  428,  429,  432,  434,  435,  436,  441,\n",
      "        442,  445,  446,  447,  448,  449,  450,  452,  455,  456,  458,\n",
      "        461,  462,  463,  467,  472,  474,  476,  477,  481,  482,  486,\n",
      "        487,  489,  495,  496,  498,  500,  501,  502,  504,  508,  509,\n",
      "        510,  511,  516,  517,  521,  523,  524,  525,  526,  527,  528,\n",
      "        539,  540,  541,  544,  549,  552,  556,  558,  559,  563,  565,\n",
      "        566,  567,  571,  572,  573,  574,  575,  578,  581,  583,  584,\n",
      "        585,  586,  587,  589,  590,  594,  598,  600,  602,  603,  605,\n",
      "        606,  608,  609,  610,  611,  613,  614,  615,  617,  624,  625,\n",
      "        628,  629,  631,  632,  633,  634,  635,  636,  637,  638,  639,\n",
      "        643,  645,  646,  647,  649,  650,  653,  654,  657,  664,  669,\n",
      "        676,  677,  680,  682,  683,  684,  685,  687,  689,  690,  694,\n",
      "        695,  699,  700,  703,  706,  710,  711,  714,  715,  716,  719,\n",
      "        725,  727,  728,  730,  731,  732,  734,  736,  737,  739,  740,\n",
      "        743,  744,  746,  748,  749,  751,  753,  754,  758,  760,  763,\n",
      "        764,  766,  769,  771,  772,  773,  776,  778,  782,  783,  785,\n",
      "        786,  787,  789,  790,  793,  796,  800,  802,  803,  804,  806,\n",
      "        807,  810,  811,  812,  814,  817,  818,  819,  820,  822,  824,\n",
      "        825,  827,  828,  830,  833,  834,  835,  836,  838,  839,  840,\n",
      "        844,  845,  846,  847,  849,  851,  853,  855,  856,  858,  859,\n",
      "        863,  864,  867,  871,  872,  874,  875,  876,  877,  879,  880,\n",
      "        884,  885,  887,  888,  890,  891,  895,  896,  897,  898,  899,\n",
      "        901,  902,  903,  907,  908,  909,  913,  917,  919,  920,  921,\n",
      "        924,  927,  928,  930,  931,  932,  933,  935,  936,  939,  940,\n",
      "        942,  944,  951,  953,  954,  958,  961,  962,  963,  964,  967,\n",
      "        969,  970,  971,  974,  977,  978,  981,  983,  984,  986,  987,\n",
      "        988,  989,  992,  993,  996,  997, 1003, 1004, 1006, 1007, 1009,\n",
      "       1010, 1015, 1017, 1018, 1019, 1021, 1022, 1025, 1026, 1029, 1031,\n",
      "       1032, 1033, 1034, 1035, 1036, 1037, 1038, 1039, 1040, 1042, 1043,\n",
      "       1045, 1047, 1050, 1053, 1054, 1055, 1056, 1058, 1059, 1060, 1062,\n",
      "       1063, 1064, 1066, 1068, 1070, 1071, 1073, 1074, 1075, 1076, 1077,\n",
      "       1078, 1080, 1083, 1085, 1089, 1098, 1100, 1103, 1104, 1105, 1107,\n",
      "       1109, 1110, 1114, 1115, 1116, 1118, 1119, 1121, 1123, 1125, 1129,\n",
      "       1131, 1134, 1135, 1136, 1137, 1138, 1140, 1142, 1147, 1148, 1149,\n",
      "       1150, 1155, 1157, 1158, 1160, 1164, 1165, 1167, 1170, 1177, 1178,\n",
      "       1179, 1183, 1184, 1187, 1189, 1190, 1192, 1193, 1195, 1197, 1200,\n",
      "       1203, 1204, 1205, 1206, 1208, 1212, 1213, 1218, 1226, 1227, 1229,\n",
      "       1230, 1231, 1234, 1235, 1237, 1238, 1239, 1240, 1241, 1243, 1245,\n",
      "       1246, 1247, 1249, 1251, 1254, 1255, 1257, 1258, 1260, 1261, 1265,\n",
      "       1267, 1270, 1271, 1274, 1277, 1280, 1282, 1284, 1285, 1289, 1290,\n",
      "       1293, 1294, 1298, 1299, 1300, 1301, 1303, 1305, 1308, 1310, 1311,\n",
      "       1312, 1315, 1319, 1321, 1322, 1325, 1327, 1331, 1332, 1333, 1334,\n",
      "       1335, 1338, 1340, 1343, 1344, 1347, 1352, 1353, 1354, 1359, 1361,\n",
      "       1364, 1367, 1371, 1377, 1378, 1379, 1383, 1385, 1388, 1392, 1395,\n",
      "       1396, 1397, 1398, 1399, 1401, 1402, 1404, 1406, 1407, 1411, 1413,\n",
      "       1417, 1418, 1419, 1421, 1424, 1425, 1426, 1427, 1428, 1429, 1430,\n",
      "       1432, 1433, 1434, 1435, 1437, 1439, 1441, 1443, 1446, 1447, 1448,\n",
      "       1449, 1451, 1452, 1453, 1454, 1457, 1460, 1461, 1462, 1466, 1467,\n",
      "       1468, 1469, 1470, 1471, 1472, 1474, 1478, 1479, 1480, 1483, 1484,\n",
      "       1485, 1486, 1489, 1490, 1492, 1493, 1494, 1495, 1496, 1500, 1501,\n",
      "       1502, 1506, 1507, 1508, 1509, 1511, 1512, 1513, 1515, 1520, 1521,\n",
      "       1522, 1523, 1524, 1525, 1527, 1528, 1529, 1530, 1534, 1535, 1536,\n",
      "       1538, 1539, 1543, 1545, 1546, 1549, 1551, 1553, 1554, 1555, 1556,\n",
      "       1558, 1559, 1560, 1561, 1562, 1563, 1567, 1569, 1570, 1571, 1573,\n",
      "       1578, 1582, 1584, 1587, 1588, 1590, 1592, 1594, 1595, 1596, 1597,\n",
      "       1598, 1599, 1600, 1601, 1602, 1605, 1607, 1608, 1609, 1610, 1612,\n",
      "       1614, 1616, 1617, 1622, 1624, 1625, 1626, 1629, 1630, 1634, 1642,\n",
      "       1644, 1645, 1646, 1649, 1651, 1655, 1656, 1661, 1662, 1664, 1665,\n",
      "       1667, 1668, 1669, 1673, 1677, 1678, 1679, 1681, 1683, 1684, 1685,\n",
      "       1687, 1689, 1691, 1698, 1704, 1705, 1706, 1707, 1708, 1711, 1713,\n",
      "       1714, 1715, 1720, 1728, 1731, 1735, 1737, 1738, 1739, 1740, 1743,\n",
      "       1746, 1748, 1749, 1750, 1751, 1752, 1755, 1756, 1757, 1758, 1761,\n",
      "       1762, 1766, 1767, 1769, 1770, 1772, 1773, 1774, 1775, 1777, 1778,\n",
      "       1779, 1785, 1787, 1791, 1792, 1793, 1794, 1795, 1796, 1797, 1804,\n",
      "       1808, 1809, 1810, 1811, 1813, 1815, 1818, 1823, 1825, 1827, 1828,\n",
      "       1830, 1833, 1834, 1840, 1841, 1843, 1847, 1848, 1853, 1854, 1860,\n",
      "       1862, 1863, 1865, 1870, 1873, 1874, 1875, 1878, 1880, 1881, 1882,\n",
      "       1883, 1885, 1887, 1892, 1895, 1896, 1898, 1899, 1900, 1901, 1902,\n",
      "       1904, 1905, 1906, 1907, 1909, 1910, 1912, 1914, 1916, 1918, 1919,\n",
      "       1921, 1923, 1924, 1926, 1927, 1931, 1934, 1935, 1938, 1940, 1943,\n",
      "       1944, 1945, 1946, 1947, 1949, 1950, 1951, 1953, 1955, 1958, 1959,\n",
      "       1960, 1961, 1962, 1963, 1968, 1969, 1970, 1971, 1973, 1976, 1977,\n",
      "       1979, 1981, 1984, 1986, 1988, 1989, 1991, 1993, 1995, 1999]),)\n",
      "(array([   0,    5,    8,    9,   11,   12,   18,   20,   21,   22,   23,\n",
      "         24,   26,   29,   33,   37,   39,   41,   43,   47,   48,   51,\n",
      "         54,   57,   58,   63,   64,   65,   67,   70,   73,   74,   75,\n",
      "         77,   78,   79,   80,   81,   82,   85,   89,   90,   93,   95,\n",
      "         96,   97,   98,  102,  106,  107,  108,  109,  113,  114,  115,\n",
      "        116,  117,  119,  123,  124,  125,  126,  129,  131,  132,  133,\n",
      "        134,  136,  139,  143,  144,  145,  146,  148,  151,  152,  154,\n",
      "        155,  156,  157,  159,  161,  162,  164,  165,  166,  168,  169,\n",
      "        170,  173,  174,  176,  177,  178,  180,  181,  183,  186,  187,\n",
      "        188,  190,  194,  195,  196,  197,  198,  201,  204,  208,  211,\n",
      "        212,  213,  214,  215,  217,  225,  226,  227,  230,  231,  234,\n",
      "        237,  240,  243,  244,  245,  246,  249,  252,  253,  255,  260,\n",
      "        261,  262,  264,  266,  268,  270,  272,  273,  274,  275,  278,\n",
      "        279,  282,  285,  286,  287,  289,  290,  291,  292,  297,  298,\n",
      "        299,  300,  301,  302,  303,  310,  312,  314,  315,  316,  318,\n",
      "        321,  322,  323,  326,  327,  328,  330,  331,  332,  334,  335,\n",
      "        336,  337,  339,  340,  341,  342,  344,  347,  348,  352,  353,\n",
      "        355,  358,  359,  360,  362,  367,  370,  371,  373,  377,  380,\n",
      "        384,  385,  387,  391,  392,  393,  394,  395,  396,  397,  398,\n",
      "        399,  401,  402,  406,  407,  408,  409,  411,  414,  417,  418,\n",
      "        419,  421,  422,  423,  424,  426,  430,  431,  433,  437,  438,\n",
      "        439,  440,  443,  444,  451,  453,  454,  457,  459,  460,  464,\n",
      "        465,  466,  468,  469,  470,  471,  473,  475,  478,  479,  480,\n",
      "        483,  484,  485,  488,  490,  491,  492,  493,  494,  497,  499,\n",
      "        503,  505,  506,  507,  512,  513,  514,  515,  518,  519,  520,\n",
      "        522,  529,  530,  531,  532,  533,  534,  535,  536,  537,  538,\n",
      "        542,  543,  545,  546,  547,  548,  550,  551,  553,  554,  555,\n",
      "        557,  560,  561,  562,  564,  568,  569,  570,  576,  577,  579,\n",
      "        580,  582,  588,  591,  592,  593,  595,  596,  597,  599,  601,\n",
      "        604,  607,  612,  616,  618,  619,  620,  621,  622,  623,  626,\n",
      "        627,  630,  640,  641,  642,  644,  648,  651,  652,  655,  656,\n",
      "        658,  659,  660,  661,  662,  663,  665,  666,  667,  668,  670,\n",
      "        671,  672,  673,  674,  675,  678,  679,  681,  686,  688,  691,\n",
      "        692,  693,  696,  697,  698,  701,  702,  704,  705,  707,  708,\n",
      "        709,  712,  713,  717,  718,  720,  721,  722,  723,  724,  726,\n",
      "        729,  733,  735,  738,  741,  742,  745,  747,  750,  752,  755,\n",
      "        756,  757,  759,  761,  762,  765,  767,  768,  770,  774,  775,\n",
      "        777,  779,  780,  781,  784,  788,  791,  792,  794,  795,  797,\n",
      "        798,  799,  801,  805,  808,  809,  813,  815,  816,  821,  823,\n",
      "        826,  829,  831,  832,  837,  841,  842,  843,  848,  850,  852,\n",
      "        854,  857,  860,  861,  862,  865,  866,  868,  869,  870,  873,\n",
      "        878,  881,  882,  883,  886,  889,  892,  893,  894,  900,  904,\n",
      "        905,  906,  910,  911,  912,  914,  915,  916,  918,  922,  923,\n",
      "        925,  926,  929,  934,  937,  938,  941,  943,  945,  946,  947,\n",
      "        948,  949,  950,  952,  955,  956,  957,  959,  960,  965,  966,\n",
      "        968,  972,  973,  975,  976,  979,  980,  982,  985,  990,  991,\n",
      "        994,  995,  998,  999, 1000, 1001, 1002, 1005, 1008, 1011, 1012,\n",
      "       1013, 1014, 1016, 1020, 1023, 1024, 1027, 1028, 1030, 1041, 1044,\n",
      "       1046, 1048, 1049, 1051, 1052, 1057, 1061, 1065, 1067, 1069, 1072,\n",
      "       1079, 1081, 1082, 1084, 1086, 1087, 1088, 1090, 1091, 1092, 1093,\n",
      "       1094, 1095, 1096, 1097, 1099, 1101, 1102, 1106, 1108, 1111, 1112,\n",
      "       1113, 1117, 1120, 1122, 1124, 1126, 1127, 1128, 1130, 1132, 1133,\n",
      "       1139, 1141, 1143, 1144, 1145, 1146, 1151, 1152, 1153, 1154, 1156,\n",
      "       1159, 1161, 1162, 1163, 1166, 1168, 1169, 1171, 1172, 1173, 1174,\n",
      "       1175, 1176, 1180, 1181, 1182, 1185, 1186, 1188, 1191, 1194, 1196,\n",
      "       1198, 1199, 1201, 1202, 1207, 1209, 1210, 1211, 1214, 1215, 1216,\n",
      "       1217, 1219, 1220, 1221, 1222, 1223, 1224, 1225, 1228, 1232, 1233,\n",
      "       1236, 1242, 1244, 1248, 1250, 1252, 1253, 1256, 1259, 1262, 1263,\n",
      "       1264, 1266, 1268, 1269, 1272, 1273, 1275, 1276, 1278, 1279, 1281,\n",
      "       1283, 1286, 1287, 1288, 1291, 1292, 1295, 1296, 1297, 1302, 1304,\n",
      "       1306, 1307, 1309, 1313, 1314, 1316, 1317, 1318, 1320, 1323, 1324,\n",
      "       1326, 1328, 1329, 1330, 1336, 1337, 1339, 1341, 1342, 1345, 1346,\n",
      "       1348, 1349, 1350, 1351, 1355, 1356, 1357, 1358, 1360, 1362, 1363,\n",
      "       1365, 1366, 1368, 1369, 1370, 1372, 1373, 1374, 1375, 1376, 1380,\n",
      "       1381, 1382, 1384, 1386, 1387, 1389, 1390, 1391, 1393, 1394, 1400,\n",
      "       1403, 1405, 1408, 1409, 1410, 1412, 1414, 1415, 1416, 1420, 1422,\n",
      "       1423, 1431, 1436, 1438, 1440, 1442, 1444, 1445, 1450, 1455, 1456,\n",
      "       1458, 1459, 1463, 1464, 1465, 1473, 1475, 1476, 1477, 1481, 1482,\n",
      "       1487, 1488, 1491, 1497, 1498, 1499, 1503, 1504, 1505, 1510, 1514,\n",
      "       1516, 1517, 1518, 1519, 1526, 1531, 1532, 1533, 1537, 1540, 1541,\n",
      "       1542, 1544, 1547, 1548, 1550, 1552, 1557, 1564, 1565, 1566, 1568,\n",
      "       1572, 1574, 1575, 1576, 1577, 1579, 1580, 1581, 1583, 1585, 1586,\n",
      "       1589, 1591, 1593, 1603, 1604, 1606, 1611, 1613, 1615, 1618, 1619,\n",
      "       1620, 1621, 1623, 1627, 1628, 1631, 1632, 1633, 1635, 1636, 1637,\n",
      "       1638, 1639, 1640, 1641, 1643, 1647, 1648, 1650, 1652, 1653, 1654,\n",
      "       1657, 1658, 1659, 1660, 1663, 1666, 1670, 1671, 1672, 1674, 1675,\n",
      "       1676, 1680, 1682, 1686, 1688, 1690, 1692, 1693, 1694, 1695, 1696,\n",
      "       1697, 1699, 1700, 1701, 1702, 1703, 1709, 1710, 1712, 1716, 1717,\n",
      "       1718, 1719, 1721, 1722, 1723, 1724, 1725, 1726, 1727, 1729, 1730,\n",
      "       1732, 1733, 1734, 1736, 1741, 1742, 1744, 1745, 1747, 1753, 1754,\n",
      "       1759, 1760, 1763, 1764, 1765, 1768, 1771, 1776, 1780, 1781, 1782,\n",
      "       1783, 1784, 1786, 1788, 1789, 1790, 1798, 1799, 1800, 1801, 1802,\n",
      "       1803, 1805, 1806, 1807, 1812, 1814, 1816, 1817, 1819, 1820, 1821,\n",
      "       1822, 1824, 1826, 1829, 1831, 1832, 1835, 1836, 1837, 1838, 1839,\n",
      "       1842, 1844, 1845, 1846, 1849, 1850, 1851, 1852, 1855, 1856, 1857,\n",
      "       1858, 1859, 1861, 1864, 1866, 1867, 1868, 1869, 1871, 1872, 1876,\n",
      "       1877, 1879, 1884, 1886, 1888, 1889, 1890, 1891, 1893, 1894, 1897,\n",
      "       1903, 1908, 1911, 1913, 1915, 1917, 1920, 1922, 1925, 1928, 1929,\n",
      "       1930, 1932, 1933, 1936, 1937, 1939, 1941, 1942, 1948, 1952, 1954,\n",
      "       1956, 1957, 1964, 1965, 1966, 1967, 1972, 1974, 1975, 1978, 1980,\n",
      "       1982, 1983, 1985, 1987, 1990, 1992, 1994, 1996, 1997, 1998]),)\n"
     ]
    }
   ],
   "source": [
    "idx0 = np.where(mLl[:,2]==0)\n",
    "idx1 = np.where(mLl[:,2]==1)\n",
    "print(idx0)\n",
    "print(idx1)                "
   ]
  },
  {
   "cell_type": "code",
   "execution_count": 49,
   "metadata": {},
   "outputs": [
    {
     "data": {
      "text/plain": [
       "<matplotlib.collections.PathCollection at 0x118d5ee80>"
      ]
     },
     "execution_count": 49,
     "metadata": {},
     "output_type": "execute_result"
    },
    {
     "data": {
      "image/png": "[encoded data removed]",
      "text/plain": [
       "<Figure size 432x288 with 1 Axes>"
      ]
     },
     "metadata": {},
     "output_type": "display_data"
    }
   ],
   "source": [
    "plt.scatter(mLl[idx0,0],mLl[idx0,1])\n",
    "plt.scatter(mLl[idx1,0],mLl[idx1,1])"
   ]
  },
  {
   "cell_type": "code",
   "execution_count": 72,
   "metadata": {},
   "outputs": [
    {
     "data": {
      "text/plain": [
       "<matplotlib.collections.PathCollection at 0x118804ba8>"
      ]
     },
     "execution_count": 72,
     "metadata": {},
     "output_type": "execute_result"
    },
    {
     "data": {
      "image/png": "[encoded data removed]",
      "text/plain": [
       "<Figure size 432x288 with 1 Axes>"
      ]
     },
     "metadata": {},
     "output_type": "display_data"
    }
   ],
   "source": [
    "plt.scatter(mLh[:,0],mLh[:,1])"
   ]
  },
  {
   "cell_type": "code",
   "execution_count": null,
   "metadata": {},
   "outputs": [],
   "source": []
  }
 ],
 "metadata": {
  "kernelspec": {
   "display_name": "Python 3",
   "language": "python",
   "name": "python3"
  },
  "language_info": {
   "codemirror_mode": {
    "name": "ipython",
    "version": 3
   },
   "file_extension": ".py",
   "mimetype": "text/x-python",
   "name": "python",
   "nbconvert_exporter": "python",
   "pygments_lexer": "ipython3",
   "version": "3.6.8"
  }
 },
 "nbformat": 4,
 "nbformat_minor": 2
}
